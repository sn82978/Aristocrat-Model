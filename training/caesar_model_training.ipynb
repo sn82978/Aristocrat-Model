{
 "cells": [
  {
   "cell_type": "code",
   "execution_count": null,
   "metadata": {},
   "outputs": [],
   "source": [
    "from transformers import BartTokenizer, BartForConditionalGeneration, Seq2SeqTrainer, Seq2SeqTrainingArguments\n",
    "from transformers import DataCollatorForSeq2Seq\n",
    "import torch\n",
    "from torch.utils.data import Dataset\n",
    "import pandas as pd"
   ]
  },
  {
   "cell_type": "code",
   "execution_count": null,
   "metadata": {},
   "outputs": [],
   "source": [
    "data_df = pd.read_csv('/Users/shreyanakum/Downloads/Sophomore Year/Summer 2024/Aristocrat-Model/data_collection/pruned_substitution_cipher_dataset_merged.csv')\n",
    "\n",
    "print(data_df.head())\n",
    "\n",
    "# BART tokenizer\n",
    "bart_tokenizer = BartTokenizer.from_pretrained('facebook/bart-base')\n",
    "\n",
    "# Custom Dataset Class\n",
    "class AristocratCipherDataset(Dataset):\n",
    "    def __init__(self, df, tokenizer, max_length=None):\n",
    "        self.df = df\n",
    "        self.tokenizer = tokenizer\n",
    "        self.max_length = max_length\n",
    "        \n",
    "    def __len__(self):\n",
    "        return len(self.df)\n",
    "    \n",
    "    def __getitem__(self, idx):\n",
    "        item = self.df.iloc[idx]\n",
    "        input_ids = self.tokenizer(item['ciphertext'], padding='max_length', truncation=True, max_length=self.max_length, return_tensors=\"pt\").input_ids.squeeze()\n",
    "        labels = self.tokenizer(item['plaintext'], padding='max_length', truncation=True, max_length=self.max_length, return_tensors=\"pt\").input_ids.squeeze()\n",
    "        \n",
    "        return {'input_ids': input_ids, 'labels': labels}\n",
    "\n",
    "# Set a max length for sequences --> change later to longer to see what happens\n",
    "max_length = 128\n",
    "\n",
    "# Create Dataset\n",
    "dataset = AristocratCipherDataset(data_df, bart_tokenizer, max_length=max_length)"
   ]
  },
  {
   "cell_type": "code",
   "execution_count": null,
   "metadata": {},
   "outputs": [],
   "source": [
    "# Bart for sequence-to-sequence tasks\n",
    "model = BartForConditionalGeneration.from_pretrained('facebook/bart-base')\n",
    "data_collator = DataCollatorForSeq2Seq(tokenizer=bart_tokenizer, model=model)\n",
    "\n",
    "if torch.cuda.is_available():\n",
    "    model.to('cuda')\n",
    "    print(f\"Using GPU: {torch.cuda.get_device_name(0)}\") # for nvidia gpu in case its used\n",
    "else:\n",
    "    print(\"Using CPU\")\n",
    "\n",
    "\n",
    "training_args = Seq2SeqTrainingArguments(\n",
    "    output_dir='./results',\n",
    "    evaluation_strategy=\"epoch\",\n",
    "    learning_rate=2e-5,\n",
    "    per_device_train_batch_size=8,\n",
    "    per_device_eval_batch_size=8,\n",
    "    weight_decay=0.01,\n",
    "    save_total_limit=3,\n",
    "    num_train_epochs=3,\n",
    "    predict_with_generate=True,\n",
    "    logging_dir='./logs', \n",
    "    logging_strategy=\"steps\",  # log every N steps\n",
    "    logging_steps=10, # adjust to bigger\n",
    ")\n",
    "\n",
    "trainer = Seq2SeqTrainer(\n",
    "    model=model,\n",
    "    args=training_args,\n",
    "    train_dataset=dataset,\n",
    "    eval_dataset=dataset,\n",
    "    data_collator=data_collator,\n",
    ")\n",
    "\n",
    "trainer.train()\n",
    "trainer.save_model(\"./aristocrat_cipher_decoder\")"
   ]
  },
  {
   "cell_type": "markdown",
   "metadata": {},
   "source": [
    "## Inference"
   ]
  },
  {
   "cell_type": "code",
   "execution_count": null,
   "metadata": {},
   "outputs": [],
   "source": [
    "import torch\n",
    "from transformers import BartTokenizer, BartForConditionalGeneration\n",
    "\n",
    "# load the trained model and tokenizer\n",
    "model = BartForConditionalGeneration.from_pretrained('./aristocrat_cipher_decoder')\n",
    "bart_tokenizer = BartTokenizer.from_pretrained('facebook/bart-base')\n",
    "\n",
    "# set to evaluation mode\n",
    "model.eval()\n",
    "\n",
    "# from df\n",
    "ciphertext = \"DEO LHWUEJC DWO PWGAJ DEI WYNKOO PDA QJEPAZ GEJCZKI LHWUEJC WP PDA HKJZKJ LWHHWZEQI WJZ PDA NKUWH WHXANP DWHH.\"\n",
    "# HIS PLAYING HAS TAKEN HIM ACROSS THE UNITED KINGDOM PLAYING AT THE LONDON PALLADIUM AND THE ROYAL ALBERT HALL\n",
    "input_ids = bart_tokenizer.encode(ciphertext, return_tensors='pt')\n",
    "\n",
    "with torch.no_grad():\n",
    "    generated_ids = model.generate(input_ids)\n",
    "\n",
    "decoded_output = bart_tokenizer.decode(generated_ids[0], skip_special_tokens=True)\n",
    "\n",
    "print(f\"Ciphertext: {ciphertext}\")\n",
    "print(f\"Decoded plaintext: {decoded_output}\")\n"
   ]
  }
 ],
 "metadata": {
  "kernelspec": {
   "display_name": ".venv",
   "language": "python",
   "name": "python3"
  },
  "language_info": {
   "name": "python",
   "version": "3.11.5"
  }
 },
 "nbformat": 4,
 "nbformat_minor": 2
}
