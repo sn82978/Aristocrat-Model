{
 "cells": [
  {
   "cell_type": "code",
   "execution_count": 11,
   "metadata": {},
   "outputs": [],
   "source": [
    "import tensorflow\n",
    "from tensorflow.keras.layers import Input, Embedding, MultiHeadAttention, LayerNormalization, Dense\n",
    "from tensorflow.keras.models import Model\n",
    "from tensorflow.keras.preprocessing.text import Tokenizer\n",
    "from tensorflow.keras.preprocessing.sequence import pad_sequences\n",
    "from tensorflow.keras.layers import TimeDistributed\n",
    "import numpy as np\n",
    "import pandas as pd\n"
   ]
  },
  {
   "cell_type": "code",
   "execution_count": 12,
   "metadata": {},
   "outputs": [],
   "source": [
    "# pruned data\n",
    "df = pd.read_csv('/Users/shreyanakum/Downloads/aristocrat_model/Aristocrat-Model/data_collection/pruned_substitution_cipher_dataset.csv')\n",
    "\n",
    "ciphertexts = df['ciphertext']\n",
    "plaintexts = df['plaintext']"
   ]
  },
  {
   "cell_type": "code",
   "execution_count": 13,
   "metadata": {},
   "outputs": [],
   "source": [
    "# tokenize the sequences\n",
    "tokenizer = Tokenizer(char_level=True)\n",
    "tokenizer.fit_on_texts(ciphertexts + plaintexts)\n",
    "\n",
    "# convert text to sequences of integers\n",
    "ciphertext_sequences = tokenizer.texts_to_sequences(ciphertexts)\n",
    "plaintext_sequences = tokenizer.texts_to_sequences(plaintexts)\n",
    "\n",
    "# get the vocabulary size\n",
    "vocab_size = len(tokenizer.word_index) + 1  # +1 for padding token\n",
    "\n",
    "# pad the sequences\n",
    "max_len = max(len(seq) for seq in ciphertext_sequences + plaintext_sequences)\n",
    "max_len = min(max_len, 100)\n",
    "\n",
    "ciphertext_sequences = pad_sequences(ciphertext_sequences, maxlen=max_len, padding='post')\n",
    "plaintext_sequences = pad_sequences(plaintext_sequences, maxlen=max_len, padding='post')"
   ]
  },
  {
   "cell_type": "code",
   "execution_count": 14,
   "metadata": {},
   "outputs": [],
   "source": [
    "# prep labels (shifted by one for decoder training)\n",
    "y = np.array(plaintext_sequences)\n",
    "y_input = y[:, :-1]  # Inputs to the decoder (remove last token)\n",
    "y_output = y[:, 1:]  # Targets for the decoder (remove first token)\n",
    "\n",
    "# adjust target preparation to align with model output\n",
    "y_output = pad_sequences(y_output, maxlen=max_len, padding='post', value=0)  # Ensure padding if needed"
   ]
  },
  {
   "cell_type": "code",
   "execution_count": 15,
   "metadata": {},
   "outputs": [],
   "source": [
    "def build_transformer_model(vocab_size, seq_len, embed_dim=128, num_heads=4, ff_dim=512):\n",
    "    inputs = Input(shape=(seq_len,))\n",
    "    embedding_layer = Embedding(input_dim=vocab_size, output_dim=embed_dim)(inputs)\n",
    "\n",
    "    # transformer block\n",
    "    attention_output = MultiHeadAttention(num_heads=num_heads, key_dim=embed_dim)(embedding_layer, embedding_layer)\n",
    "    attention_output = LayerNormalization()(attention_output + embedding_layer)\n",
    "    \n",
    "    ff_output = Dense(ff_dim, activation='relu')(attention_output)\n",
    "    ff_output = Dense(embed_dim)(ff_output)\n",
    "    ff_output = LayerNormalization()(ff_output + attention_output)\n",
    "\n",
    "    # use TimeDistributed to apply dense to each time step\n",
    "    outputs = TimeDistributed(Dense(vocab_size, activation='softmax'))(ff_output)\n",
    "\n",
    "    model = Model(inputs=inputs, outputs=outputs)\n",
    "    return model\n",
    "\n",
    "model = build_transformer_model(vocab_size, max_len)  # seq_len = max_len\n",
    "model.compile(optimizer='adam', loss='sparse_categorical_crossentropy', metrics=['accuracy'])\n"
   ]
  },
  {
   "cell_type": "code",
   "execution_count": 16,
   "metadata": {},
   "outputs": [
    {
     "name": "stdout",
     "output_type": "stream",
     "text": [
      "Epoch 1/10\n",
      "\u001b[1m1834/1834\u001b[0m \u001b[32m━━━━━━━━━━━━━━━━━━━━\u001b[0m\u001b[37m\u001b[0m \u001b[1m147s\u001b[0m 79ms/step - accuracy: 0.2819 - loss: 2.5331 - val_accuracy: 0.2866 - val_loss: 2.4766\n",
      "Epoch 2/10\n",
      "\u001b[1m1834/1834\u001b[0m \u001b[32m━━━━━━━━━━━━━━━━━━━━\u001b[0m\u001b[37m\u001b[0m \u001b[1m145s\u001b[0m 79ms/step - accuracy: 0.2867 - loss: 2.4739 - val_accuracy: 0.2864 - val_loss: 2.4748\n",
      "Epoch 3/10\n",
      "\u001b[1m1834/1834\u001b[0m \u001b[32m━━━━━━━━━━━━━━━━━━━━\u001b[0m\u001b[37m\u001b[0m \u001b[1m143s\u001b[0m 78ms/step - accuracy: 0.2859 - loss: 2.4730 - val_accuracy: 0.2870 - val_loss: 2.4691\n",
      "Epoch 4/10\n",
      "\u001b[1m1834/1834\u001b[0m \u001b[32m━━━━━━━━━━━━━━━━━━━━\u001b[0m\u001b[37m\u001b[0m \u001b[1m139s\u001b[0m 76ms/step - accuracy: 0.2866 - loss: 2.4689 - val_accuracy: 0.2872 - val_loss: 2.4675\n",
      "Epoch 5/10\n",
      "\u001b[1m1834/1834\u001b[0m \u001b[32m━━━━━━━━━━━━━━━━━━━━\u001b[0m\u001b[37m\u001b[0m \u001b[1m139s\u001b[0m 76ms/step - accuracy: 0.2869 - loss: 2.4679 - val_accuracy: 0.2868 - val_loss: 2.4691\n",
      "Epoch 6/10\n",
      "\u001b[1m1834/1834\u001b[0m \u001b[32m━━━━━━━━━━━━━━━━━━━━\u001b[0m\u001b[37m\u001b[0m \u001b[1m142s\u001b[0m 77ms/step - accuracy: 0.2871 - loss: 2.4657 - val_accuracy: 0.2868 - val_loss: 2.4680\n",
      "Epoch 7/10\n",
      "\u001b[1m1834/1834\u001b[0m \u001b[32m━━━━━━━━━━━━━━━━━━━━\u001b[0m\u001b[37m\u001b[0m \u001b[1m138s\u001b[0m 75ms/step - accuracy: 0.2871 - loss: 2.4658 - val_accuracy: 0.2868 - val_loss: 2.4687\n",
      "Epoch 8/10\n",
      "\u001b[1m1834/1834\u001b[0m \u001b[32m━━━━━━━━━━━━━━━━━━━━\u001b[0m\u001b[37m\u001b[0m \u001b[1m142s\u001b[0m 78ms/step - accuracy: 0.2859 - loss: 2.4682 - val_accuracy: 0.2869 - val_loss: 2.4667\n",
      "Epoch 9/10\n",
      "\u001b[1m1834/1834\u001b[0m \u001b[32m━━━━━━━━━━━━━━━━━━━━\u001b[0m\u001b[37m\u001b[0m \u001b[1m147s\u001b[0m 80ms/step - accuracy: 0.2873 - loss: 2.4628 - val_accuracy: 0.2872 - val_loss: 2.4651\n",
      "Epoch 10/10\n",
      "\u001b[1m1834/1834\u001b[0m \u001b[32m━━━━━━━━━━━━━━━━━━━━\u001b[0m\u001b[37m\u001b[0m \u001b[1m154s\u001b[0m 84ms/step - accuracy: 0.2877 - loss: 2.4624 - val_accuracy: 0.2875 - val_loss: 2.4653\n"
     ]
    },
    {
     "data": {
      "text/plain": [
       "<keras.src.callbacks.history.History at 0x301909750>"
      ]
     },
     "execution_count": 16,
     "metadata": {},
     "output_type": "execute_result"
    }
   ],
   "source": [
    "from tensorflow.keras.callbacks import TensorBoard\n",
    "tensorboard_callback = TensorBoard(log_dir=\"./logs\")\n",
    "\n",
    "# train the model\n",
    "model.fit(ciphertext_sequences, y_output, epochs=10, batch_size=16, validation_split=0.2)"
   ]
  },
  {
   "cell_type": "markdown",
   "metadata": {},
   "source": [
    "## Testing with Sample Input"
   ]
  },
  {
   "cell_type": "code",
   "execution_count": 17,
   "metadata": {},
   "outputs": [
    {
     "name": "stdout",
     "output_type": "stream",
     "text": [
      "\u001b[1m1/1\u001b[0m \u001b[32m━━━━━━━━━━━━━━━━━━━━\u001b[0m\u001b[37m\u001b[0m \u001b[1m1s\u001b[0m 512ms/step\n",
      "      a   a       a  a         \n"
     ]
    }
   ],
   "source": [
    "# 1. Prepare Sample Input\n",
    "sample_text = [\"KONNC, LYR VONICBO AC VUPUQORUL\"]\n",
    "sample_sequences = tokenizer.texts_to_sequences(sample_text)\n",
    "sample_sequences = pad_sequences(sample_sequences, maxlen=max_len, padding='post')\n",
    "\n",
    "# 2. Predict Using the Model\n",
    "predictions = model.predict(sample_sequences)\n",
    "\n",
    "# 3. Decode Predictions\n",
    "import numpy as np\n",
    "\n",
    "# Assuming vocab_size = 37 (adjust based on your setup)\n",
    "index_to_char = {index: char for char, index in tokenizer.word_index.items()}\n",
    "predicted_indices = np.argmax(predictions, axis=-1)\n",
    "\n",
    "# Convert indices to text\n",
    "predicted_text = ''.join([index_to_char.get(index, '') for index in predicted_indices[0]])\n",
    "print(predicted_text)"
   ]
  }
 ],
 "metadata": {
  "kernelspec": {
   "display_name": ".venv",
   "language": "python",
   "name": "python3"
  },
  "language_info": {
   "codemirror_mode": {
    "name": "ipython",
    "version": 3
   },
   "file_extension": ".py",
   "mimetype": "text/x-python",
   "name": "python",
   "nbconvert_exporter": "python",
   "pygments_lexer": "ipython3",
   "version": "3.11.5"
  }
 },
 "nbformat": 4,
 "nbformat_minor": 2
}
