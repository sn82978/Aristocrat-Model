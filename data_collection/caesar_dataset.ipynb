{
 "cells": [
  {
   "cell_type": "code",
   "execution_count": 2,
   "metadata": {},
   "outputs": [],
   "source": [
    "import pandas as pd\n",
    "import csv\n",
    "import random\n",
    "\n",
    "df = pd.read_csv('/Users/shreyanakum/Downloads/Sophomore Year/Summer 2024/Aristocrat-Model/data_collection/pruned_substitution_cipher_dataset_merged.csv')\n",
    "plaintexts = df['plaintext']"
   ]
  },
  {
   "cell_type": "code",
   "execution_count": 3,
   "metadata": {},
   "outputs": [],
   "source": [
    "def caesar_cipher(text, shift):\n",
    "    result = \"\"\n",
    "\n",
    "    for i in range(len(text)):\n",
    "        char = text[i].upper()\n",
    "        \n",
    "        # uppercase characters\n",
    "        if char.isupper():\n",
    "            result += chr((ord(char) + shift - 65) % 26 + 65)\n",
    "        # lowercase characters\n",
    "        elif char.islower():\n",
    "            result += chr((ord(char) + shift - 97) % 26 + 97)\n",
    "        else:\n",
    "            result += char\n",
    "    return result"
   ]
  },
  {
   "cell_type": "code",
   "execution_count": 4,
   "metadata": {},
   "outputs": [],
   "source": [
    "with open('caesar_cipher_output.csv', mode='w', newline='') as file:\n",
    "    writer = csv.writer(file)\n",
    "    writer.writerow([\"Plaintext\", \"Ciphertext\"])\n",
    "    \n",
    "    shift = random.randint(1, 25)\n",
    "    for plaintext in plaintexts:\n",
    "        ciphertext = caesar_cipher(plaintext, shift)\n",
    "        writer.writerow([plaintext, ciphertext])"
   ]
  }
 ],
 "metadata": {
  "kernelspec": {
   "display_name": ".venv",
   "language": "python",
   "name": "python3"
  },
  "language_info": {
   "codemirror_mode": {
    "name": "ipython",
    "version": 3
   },
   "file_extension": ".py",
   "mimetype": "text/x-python",
   "name": "python",
   "nbconvert_exporter": "python",
   "pygments_lexer": "ipython3",
   "version": "3.11.5"
  }
 },
 "nbformat": 4,
 "nbformat_minor": 2
}
