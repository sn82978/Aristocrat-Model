{
 "cells": [
  {
   "cell_type": "code",
   "execution_count": 1,
   "metadata": {},
   "outputs": [
    {
     "name": "stdout",
     "output_type": "stream",
     "text": [
      "Requirement already satisfied: pandas in /Users/shreyanakum/Downloads/aristocrat_model/Aristocrat-Model/.venv/lib/python3.11/site-packages (2.2.2)\n",
      "Requirement already satisfied: numpy>=1.23.2 in /Users/shreyanakum/Downloads/aristocrat_model/Aristocrat-Model/.venv/lib/python3.11/site-packages (from pandas) (1.26.4)\n",
      "Requirement already satisfied: python-dateutil>=2.8.2 in /Users/shreyanakum/Downloads/aristocrat_model/Aristocrat-Model/.venv/lib/python3.11/site-packages (from pandas) (2.9.0.post0)\n",
      "Requirement already satisfied: pytz>=2020.1 in /Users/shreyanakum/Downloads/aristocrat_model/Aristocrat-Model/.venv/lib/python3.11/site-packages (from pandas) (2024.1)\n",
      "Requirement already satisfied: tzdata>=2022.7 in /Users/shreyanakum/Downloads/aristocrat_model/Aristocrat-Model/.venv/lib/python3.11/site-packages (from pandas) (2024.1)\n",
      "Requirement already satisfied: six>=1.5 in /Users/shreyanakum/Downloads/aristocrat_model/Aristocrat-Model/.venv/lib/python3.11/site-packages (from python-dateutil>=2.8.2->pandas) (1.16.0)\n"
     ]
    }
   ],
   "source": [
    "! pip install pandas"
   ]
  },
  {
   "cell_type": "code",
   "execution_count": 2,
   "metadata": {},
   "outputs": [],
   "source": [
    "import csv\n",
    "import pandas as pd\n",
    "import re"
   ]
  },
  {
   "cell_type": "code",
   "execution_count": 7,
   "metadata": {},
   "outputs": [],
   "source": [
    "df1 = pd.read_csv('substitution_cipher_dataset_v2.csv')\n",
    "df2 = pd.read_csv('substitution_cipher_dataset.csv')\n",
    "df = pd.concat([df1,df2])\n",
    "\n",
    "with open('combined_cipher_data.csv', 'w', encoding='utf-8') as f:\n",
    "    df.to_csv(f, index=False)\n"
   ]
  },
  {
   "cell_type": "code",
   "execution_count": 8,
   "metadata": {},
   "outputs": [],
   "source": [
    "# removing duplicate plaintexts\n",
    "df = df.drop_duplicates(subset=['plaintext'])\n",
    "\n",
    "# not a string goes away\n",
    "df = df[df['plaintext'].apply(lambda x: isinstance(x, str))]\n",
    "\n",
    "# Define a regex pattern that allows alphabetic characters, spaces, and common punctuation\n",
    "pattern = re.compile(r'^[A-Za-z\\s.,!?\\'\"-]+$')\n",
    "\n",
    "# Filter out rows where 'plaintext' doesn't match the pattern\n",
    "df = df[df['plaintext'].apply(lambda x: bool(pattern.match(x)))]\n",
    "\n",
    "# remove very short pts\n",
    "df = df[df['plaintext'].apply(lambda x: len(x) > 50)]"
   ]
  },
  {
   "cell_type": "code",
   "execution_count": 9,
   "metadata": {},
   "outputs": [],
   "source": [
    "df.to_csv('pruned_substitution_cipher_dataset_merged.csv', index=False)"
   ]
  }
 ],
 "metadata": {
  "kernelspec": {
   "display_name": "data-scraper",
   "language": "python",
   "name": "python3"
  },
  "language_info": {
   "codemirror_mode": {
    "name": "ipython",
    "version": 3
   },
   "file_extension": ".py",
   "mimetype": "text/x-python",
   "name": "python",
   "nbconvert_exporter": "python",
   "pygments_lexer": "ipython3",
   "version": "3.11.5"
  }
 },
 "nbformat": 4,
 "nbformat_minor": 2
}
