{
 "cells": [
  {
   "cell_type": "code",
   "execution_count": 2,
   "metadata": {},
   "outputs": [
    {
     "name": "stdout",
     "output_type": "stream",
     "text": [
      "Collecting pandas\n",
      "  Using cached pandas-2.2.2-cp312-cp312-macosx_11_0_arm64.whl.metadata (19 kB)\n",
      "Collecting numpy>=1.26.0 (from pandas)\n",
      "  Using cached numpy-2.0.1-cp312-cp312-macosx_14_0_arm64.whl.metadata (60 kB)\n",
      "Requirement already satisfied: python-dateutil>=2.8.2 in /Users/shreyanakum/Downloads/aristocrat_model/Aristocrat-Model/.venv/lib/python3.12/site-packages (from pandas) (2.9.0.post0)\n",
      "Collecting pytz>=2020.1 (from pandas)\n",
      "  Using cached pytz-2024.1-py2.py3-none-any.whl.metadata (22 kB)\n",
      "Collecting tzdata>=2022.7 (from pandas)\n",
      "  Using cached tzdata-2024.1-py2.py3-none-any.whl.metadata (1.4 kB)\n",
      "Requirement already satisfied: six>=1.5 in /Users/shreyanakum/Downloads/aristocrat_model/Aristocrat-Model/.venv/lib/python3.12/site-packages (from python-dateutil>=2.8.2->pandas) (1.16.0)\n",
      "Using cached pandas-2.2.2-cp312-cp312-macosx_11_0_arm64.whl (11.3 MB)\n",
      "Using cached numpy-2.0.1-cp312-cp312-macosx_14_0_arm64.whl (5.0 MB)\n",
      "Using cached pytz-2024.1-py2.py3-none-any.whl (505 kB)\n",
      "Using cached tzdata-2024.1-py2.py3-none-any.whl (345 kB)\n",
      "Installing collected packages: pytz, tzdata, numpy, pandas\n",
      "Successfully installed numpy-2.0.1 pandas-2.2.2 pytz-2024.1 tzdata-2024.1\n"
     ]
    }
   ],
   "source": [
    "! pip install pandas"
   ]
  },
  {
   "cell_type": "code",
   "execution_count": 8,
   "metadata": {},
   "outputs": [],
   "source": [
    "import csv\n",
    "import pandas as pd\n",
    "import re"
   ]
  },
  {
   "cell_type": "code",
   "execution_count": 7,
   "metadata": {},
   "outputs": [
    {
     "data": {
      "text/html": [
       "<div>\n",
       "<style scoped>\n",
       "    .dataframe tbody tr th:only-of-type {\n",
       "        vertical-align: middle;\n",
       "    }\n",
       "\n",
       "    .dataframe tbody tr th {\n",
       "        vertical-align: top;\n",
       "    }\n",
       "\n",
       "    .dataframe thead th {\n",
       "        text-align: right;\n",
       "    }\n",
       "</style>\n",
       "<table border=\"1\" class=\"dataframe\">\n",
       "  <thead>\n",
       "    <tr style=\"text-align: right;\">\n",
       "      <th></th>\n",
       "      <th>plaintext</th>\n",
       "      <th>ciphertext</th>\n",
       "    </tr>\n",
       "  </thead>\n",
       "  <tbody>\n",
       "    <tr>\n",
       "      <th>0</th>\n",
       "      <td>Hello, and welcome to Wikipedia</td>\n",
       "      <td>KONNC, LYR VONICBO AC VUPUQORUL</td>\n",
       "    </tr>\n",
       "    <tr>\n",
       "      <th>1</th>\n",
       "      <td>This is a message letting you know that one or...</td>\n",
       "      <td>UXWR WR Q PZRRQHZ CZUUWSH JAF KSAM UXQU ASZ AT...</td>\n",
       "    </tr>\n",
       "    <tr>\n",
       "      <th>2</th>\n",
       "      <td>Unregistered editors using this IP address rec...</td>\n",
       "      <td>UJPYAZBKYPYD YDZKXPB UBZJA KCZB ZT WDDPYBB PYI...</td>\n",
       "    </tr>\n",
       "    <tr>\n",
       "      <th>3</th>\n",
       "      <td>Since users of the IP address have likely chan...</td>\n",
       "      <td>ZJYIG SZGOZ ET QXG JR BLLOGZZ XBPG AJFGAN IXBY...</td>\n",
       "    </tr>\n",
       "    <tr>\n",
       "      <th>4</th>\n",
       "      <td>They can be viewed in the page history.</td>\n",
       "      <td>DKHZ NVA PH IFHTHW FA DKH CVOH KFSDXRZ.</td>\n",
       "    </tr>\n",
       "  </tbody>\n",
       "</table>\n",
       "</div>"
      ],
      "text/plain": [
       "                                           plaintext  \\\n",
       "0                    Hello, and welcome to Wikipedia   \n",
       "1  This is a message letting you know that one or...   \n",
       "2  Unregistered editors using this IP address rec...   \n",
       "3  Since users of the IP address have likely chan...   \n",
       "4            They can be viewed in the page history.   \n",
       "\n",
       "                                          ciphertext  \n",
       "0                    KONNC, LYR VONICBO AC VUPUQORUL  \n",
       "1  UXWR WR Q PZRRQHZ CZUUWSH JAF KSAM UXQU ASZ AT...  \n",
       "2  UJPYAZBKYPYD YDZKXPB UBZJA KCZB ZT WDDPYBB PYI...  \n",
       "3  ZJYIG SZGOZ ET QXG JR BLLOGZZ XBPG AJFGAN IXBY...  \n",
       "4            DKHZ NVA PH IFHTHW FA DKH CVOH KFSDXRZ.  "
      ]
     },
     "execution_count": 7,
     "metadata": {},
     "output_type": "execute_result"
    }
   ],
   "source": [
    "df = pd.read_csv('substitution_cipher_dataset.csv')\n",
    "df.head()"
   ]
  },
  {
   "cell_type": "code",
   "execution_count": 12,
   "metadata": {},
   "outputs": [],
   "source": [
    "# removing duplicate plaintexts\n",
    "df = df.drop_duplicates(subset=['plaintext'])\n",
    "\n",
    "# not a string goes away\n",
    "df = df[df['plaintext'].apply(lambda x: isinstance(x, str))]\n",
    "\n",
    "# Define a regex pattern that allows alphabetic characters, spaces, and common punctuation\n",
    "pattern = re.compile(r'^[A-Za-z\\s.,!?\\'\"-]+$')\n",
    "\n",
    "# Filter out rows where 'plaintext' doesn't match the pattern\n",
    "df = df[df['plaintext'].apply(lambda x: bool(pattern.match(x)))]\n",
    "\n",
    "# remove very short pts\n",
    "df = df[df['plaintext'].apply(lambda x: len(x) > 50)]"
   ]
  },
  {
   "cell_type": "code",
   "execution_count": 13,
   "metadata": {},
   "outputs": [],
   "source": [
    "df.to_csv('pruned_substitution_cipher_dataset.csv', index=False)"
   ]
  }
 ],
 "metadata": {
  "kernelspec": {
   "display_name": "data-scraper",
   "language": "python",
   "name": "python3"
  },
  "language_info": {
   "codemirror_mode": {
    "name": "ipython",
    "version": 3
   },
   "file_extension": ".py",
   "mimetype": "text/x-python",
   "name": "python",
   "nbconvert_exporter": "python",
   "pygments_lexer": "ipython3",
   "version": "3.12.4"
  }
 },
 "nbformat": 4,
 "nbformat_minor": 2
}
